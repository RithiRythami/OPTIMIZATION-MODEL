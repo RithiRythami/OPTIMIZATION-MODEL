{
 "cells": [
  {
   "cell_type": "code",
   "execution_count": 3,
   "id": "3f7b7cb4-fc0d-41e7-9414-0035734dbdec",
   "metadata": {},
   "outputs": [],
   "source": [
    "import pulp"
   ]
  },
  {
   "cell_type": "code",
   "execution_count": 12,
   "id": "2d684866-0433-40d0-9224-3c2f8a84418f",
   "metadata": {},
   "outputs": [],
   "source": [
    "# Define the problem\n",
    "m = pulp.LpProblem(\"Maximum Profit\", pulp.LpMaximize)\n"
   ]
  },
  {
   "cell_type": "code",
   "execution_count": 14,
   "id": "0a742e1a-7feb-45a6-aef0-92d69a7a971a",
   "metadata": {},
   "outputs": [],
   "source": [
    "X = pulp.LpVariable(\"X\", lowBound=0)\n",
    "Y = pulp.LpVariable(\"Y\", lowBound=0)"
   ]
  },
  {
   "cell_type": "code",
   "execution_count": 16,
   "id": "a6f23049-cf9e-4d54-993b-a492b2772f9e",
   "metadata": {},
   "outputs": [],
   "source": [
    "m += X + Y - 50"
   ]
  },
  {
   "cell_type": "code",
   "execution_count": 18,
   "id": "26038710-5196-4d63-90d2-0aba7fe0c2cc",
   "metadata": {},
   "outputs": [],
   "source": [
    "m += 50 * X + 24 * Y <= 40 * 60\n",
    "m += 30 * X + 33 * Y <= 35 * 60\n",
    "m += X >= 75 - 30\n",
    "m += Y >= 95 - 90"
   ]
  },
  {
   "cell_type": "code",
   "execution_count": 20,
   "id": "faadc35b-5f19-45a2-b47a-86fc6354db6a",
   "metadata": {},
   "outputs": [
    {
     "data": {
      "text/plain": [
       "1"
      ]
     },
     "execution_count": 20,
     "metadata": {},
     "output_type": "execute_result"
    }
   ],
   "source": [
    "m.solve()"
   ]
  },
  {
   "cell_type": "code",
   "execution_count": 22,
   "id": "ded6bd39-7abd-4d44-91aa-b7e215d72032",
   "metadata": {},
   "outputs": [
    {
     "name": "stdout",
     "output_type": "stream",
     "text": [
      "Solution Status: Optimal\n"
     ]
    }
   ],
   "source": [
    "print(\"Solution Status:\", pulp.LpStatus[m.status])"
   ]
  },
  {
   "cell_type": "code",
   "execution_count": 24,
   "id": "19c2158a-8efc-43b1-8ded-3c675aa8cc73",
   "metadata": {},
   "outputs": [
    {
     "name": "stdout",
     "output_type": "stream",
     "text": [
      "X = 45.0\n",
      "Y = 6.25\n"
     ]
    }
   ],
   "source": [
    "for var in m.variables():\n",
    "    print(f\"{var.name} = {var.varValue}\")"
   ]
  },
  {
   "cell_type": "code",
   "execution_count": 26,
   "id": "cbaa46d0-67e2-4042-b03c-312f698854f4",
   "metadata": {},
   "outputs": [
    {
     "name": "stdout",
     "output_type": "stream",
     "text": [
      "Optimal Objective Function Value: 1.25\n"
     ]
    }
   ],
   "source": [
    "print(\"Optimal Objective Function Value:\", pulp.value(m.objective))"
   ]
  },
  {
   "cell_type": "code",
   "execution_count": null,
   "id": "2dae9836-a6ae-43de-a1e3-a32a16490486",
   "metadata": {},
   "outputs": [],
   "source": []
  }
 ],
 "metadata": {
  "kernelspec": {
   "display_name": "Python 3 (ipykernel)",
   "language": "python",
   "name": "python3"
  },
  "language_info": {
   "codemirror_mode": {
    "name": "ipython",
    "version": 3
   },
   "file_extension": ".py",
   "mimetype": "text/x-python",
   "name": "python",
   "nbconvert_exporter": "python",
   "pygments_lexer": "ipython3",
   "version": "3.12.4"
  }
 },
 "nbformat": 4,
 "nbformat_minor": 5
}
